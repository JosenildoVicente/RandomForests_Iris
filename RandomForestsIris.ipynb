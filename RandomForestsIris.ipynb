{
  "nbformat": 4,
  "nbformat_minor": 0,
  "metadata": {
    "colab": {
      "name": "RandomForestsIris.ipynb",
      "provenance": [],
      "authorship_tag": "ABX9TyO/Y+5s63nbFBZChFpzkMyL",
      "include_colab_link": true
    },
    "kernelspec": {
      "name": "python3",
      "display_name": "Python 3"
    },
    "language_info": {
      "name": "python"
    }
  },
  "cells": [
    {
      "cell_type": "markdown",
      "metadata": {
        "id": "view-in-github",
        "colab_type": "text"
      },
      "source": [
        "<a href=\"https://colab.research.google.com/github/JosenildoVicente/RandomForests_Iris/blob/main/RandomForestsIris.ipynb\" target=\"_parent\"><img src=\"https://colab.research.google.com/assets/colab-badge.svg\" alt=\"Open In Colab\"/></a>"
      ]
    },
    {
      "cell_type": "markdown",
      "metadata": {
        "id": "5_qgsB9D2oZN"
      },
      "source": [
        "#Importação dos dados:"
      ]
    },
    {
      "cell_type": "code",
      "metadata": {
        "id": "HPWutxqS2WUs"
      },
      "source": [
        "import pandas as pd\n",
        "import numpy as np\n",
        "from sklearn.model_selection import train_test_split\n",
        "from sklearn.ensemble import RandomForestClassifier\n",
        "from sklearn.metrics import accuracy_score"
      ],
      "execution_count": 1,
      "outputs": []
    },
    {
      "cell_type": "code",
      "metadata": {
        "id": "v-CtAZKX3QWu"
      },
      "source": [
        "dados = pd.read_csv( \"https://raw.githubusercontent.com/JosenildoVicente/RandomForests_Iris/main/iris.csv\", encoding=\"ISO-8859-1\" )"
      ],
      "execution_count": 2,
      "outputs": []
    },
    {
      "cell_type": "markdown",
      "metadata": {
        "id": "6K1cBwZ23a69"
      },
      "source": [
        "Normalização dos dados:"
      ]
    },
    {
      "cell_type": "code",
      "metadata": {
        "id": "ge-NjEcO3WKm"
      },
      "source": [
        "dados['sepal length'] = (dados['sepal length'] - min(dados['sepal length']))/(max(dados['sepal length']) - min(dados['sepal length']))\n",
        "dados['sepal width'] = (dados['sepal width'] - min(dados['sepal width']))/(max(dados['sepal width']) - min(dados['sepal width']))\n",
        "dados['petal length'] = (dados['petal length'] - min(dados['petal length']))/(max(dados['petal length']) - min(dados['petal length']))\n",
        "dados['petal width'] = (dados['petal width'] - min(dados['petal width']))/(max(dados['petal width']) - min(dados['petal width']))"
      ],
      "execution_count": 3,
      "outputs": []
    },
    {
      "cell_type": "markdown",
      "metadata": {
        "id": "c8KHVQ0T3gnG"
      },
      "source": [
        "#Separação em dados de treino e de teste:"
      ]
    },
    {
      "cell_type": "code",
      "metadata": {
        "id": "_BfL92J73dNk"
      },
      "source": [
        "x_treino, x_teste, y_treino, y_teste = train_test_split(dados.drop('class',axis=1),dados['class'],test_size=0.25, stratify=dados['class'])"
      ],
      "execution_count": 4,
      "outputs": []
    },
    {
      "cell_type": "markdown",
      "metadata": {
        "id": "CE_pQU41WlDD"
      },
      "source": [
        "#Treino, teste e resultado acurácias"
      ]
    },
    {
      "cell_type": "code",
      "metadata": {
        "colab": {
          "base_uri": "https://localhost:8080/"
        },
        "id": "eIJLu3Wy3wtG",
        "outputId": "4c2eddca-e821-415b-d914-bdc2bcd12e84"
      },
      "source": [
        "num_arvores = [100,200,300,400,500,600,700,800,900,1000]\n",
        "for i in num_arvores:\n",
        "  model = RandomForestClassifier(n_estimators=i)\n",
        "  model.fit(x_treino, y_treino)\n",
        "  ypred = model.predict(x_teste)\n",
        "  print(\"Acurácia com\",i,\"arvores:\",accuracy_score(y_teste, ypred))"
      ],
      "execution_count": 5,
      "outputs": [
        {
          "output_type": "stream",
          "text": [
            "Acurácia com 100 arvores: 0.9473684210526315\n",
            "Acurácia com 200 arvores: 0.9736842105263158\n",
            "Acurácia com 300 arvores: 0.9736842105263158\n",
            "Acurácia com 400 arvores: 0.9736842105263158\n",
            "Acurácia com 500 arvores: 0.9736842105263158\n",
            "Acurácia com 600 arvores: 0.9736842105263158\n",
            "Acurácia com 700 arvores: 0.9736842105263158\n",
            "Acurácia com 800 arvores: 0.9736842105263158\n",
            "Acurácia com 900 arvores: 0.9736842105263158\n",
            "Acurácia com 1000 arvores: 0.9736842105263158\n"
          ],
          "name": "stdout"
        }
      ]
    },
    {
      "cell_type": "markdown",
      "metadata": {
        "id": "0K-rdEDHGEAY"
      },
      "source": [
        "#Verificando importancia das features"
      ]
    },
    {
      "cell_type": "code",
      "metadata": {
        "colab": {
          "base_uri": "https://localhost:8080/"
        },
        "id": "yNuaTN_iGI2u",
        "outputId": "3f85c1e0-2b32-4f3d-a0e3-8cbee73abc88"
      },
      "source": [
        "model = RandomForestClassifier(n_estimators=100)\n",
        "model.fit(x_treino, y_treino)"
      ],
      "execution_count": 6,
      "outputs": [
        {
          "output_type": "execute_result",
          "data": {
            "text/plain": [
              "RandomForestClassifier(bootstrap=True, ccp_alpha=0.0, class_weight=None,\n",
              "                       criterion='gini', max_depth=None, max_features='auto',\n",
              "                       max_leaf_nodes=None, max_samples=None,\n",
              "                       min_impurity_decrease=0.0, min_impurity_split=None,\n",
              "                       min_samples_leaf=1, min_samples_split=2,\n",
              "                       min_weight_fraction_leaf=0.0, n_estimators=100,\n",
              "                       n_jobs=None, oob_score=False, random_state=None,\n",
              "                       verbose=0, warm_start=False)"
            ]
          },
          "metadata": {
            "tags": []
          },
          "execution_count": 6
        }
      ]
    },
    {
      "cell_type": "code",
      "metadata": {
        "colab": {
          "base_uri": "https://localhost:8080/"
        },
        "id": "gbKWzeLFGTvZ",
        "outputId": "97fe96a4-2970-4d2a-8f34-7e1d623bb6fb"
      },
      "source": [
        "feature_imp = pd.Series(model.feature_importances_,index=dados.drop('class',1).columns).sort_values(ascending=False)\n",
        "feature_imp"
      ],
      "execution_count": 7,
      "outputs": [
        {
          "output_type": "execute_result",
          "data": {
            "text/plain": [
              "petal width     0.462385\n",
              "petal length    0.426143\n",
              "sepal length    0.087035\n",
              "sepal width     0.024438\n",
              "dtype: float64"
            ]
          },
          "metadata": {
            "tags": []
          },
          "execution_count": 7
        }
      ]
    },
    {
      "cell_type": "markdown",
      "metadata": {
        "id": "Nj7xDIY9IqB-"
      },
      "source": [
        "Se vê que a sepal width tem uma importancia muito pequena"
      ]
    },
    {
      "cell_type": "code",
      "metadata": {
        "id": "iV-u1G12IBse"
      },
      "source": [
        "x_treino = x_treino.drop(['sepal width'],1)\n",
        "x_teste = x_teste.drop(['sepal width'],1)"
      ],
      "execution_count": 8,
      "outputs": []
    },
    {
      "cell_type": "code",
      "metadata": {
        "colab": {
          "base_uri": "https://localhost:8080/"
        },
        "id": "2wVklQpNJX2o",
        "outputId": "ef9268f6-80bd-4cfd-c7c1-d86dd3226c34"
      },
      "source": [
        "model = RandomForestClassifier(n_estimators=100)\n",
        "model.fit(x_treino, y_treino)"
      ],
      "execution_count": 9,
      "outputs": [
        {
          "output_type": "execute_result",
          "data": {
            "text/plain": [
              "RandomForestClassifier(bootstrap=True, ccp_alpha=0.0, class_weight=None,\n",
              "                       criterion='gini', max_depth=None, max_features='auto',\n",
              "                       max_leaf_nodes=None, max_samples=None,\n",
              "                       min_impurity_decrease=0.0, min_impurity_split=None,\n",
              "                       min_samples_leaf=1, min_samples_split=2,\n",
              "                       min_weight_fraction_leaf=0.0, n_estimators=100,\n",
              "                       n_jobs=None, oob_score=False, random_state=None,\n",
              "                       verbose=0, warm_start=False)"
            ]
          },
          "metadata": {
            "tags": []
          },
          "execution_count": 9
        }
      ]
    },
    {
      "cell_type": "code",
      "metadata": {
        "colab": {
          "base_uri": "https://localhost:8080/"
        },
        "id": "gw0VRIizLkry",
        "outputId": "340021a2-ba5c-4cad-d001-7f94c6b62052"
      },
      "source": [
        "feature_imp = pd.Series(model.feature_importances_,index=dados.drop(['sepal width','class'],1).columns).sort_values(ascending=False)\n",
        "feature_imp"
      ],
      "execution_count": 10,
      "outputs": [
        {
          "output_type": "execute_result",
          "data": {
            "text/plain": [
              "petal width     0.411115\n",
              "petal length    0.402092\n",
              "sepal length    0.186793\n",
              "dtype: float64"
            ]
          },
          "metadata": {
            "tags": []
          },
          "execution_count": 10
        }
      ]
    },
    {
      "cell_type": "code",
      "metadata": {
        "colab": {
          "base_uri": "https://localhost:8080/"
        },
        "id": "DEOZZL-DJx6o",
        "outputId": "97ce01f0-456e-47ca-facc-ee8799fed372"
      },
      "source": [
        "num_arvores = [100,200,300,400,500,600,700,800,900,1000]\n",
        "for i in num_arvores:\n",
        "  model = RandomForestClassifier(n_estimators=i)\n",
        "  model.fit(x_treino, y_treino)\n",
        "  ypred = model.predict(x_teste)\n",
        "  print(\"Acurácia com\",i,\"arvores:\",accuracy_score(y_teste, ypred))"
      ],
      "execution_count": 11,
      "outputs": [
        {
          "output_type": "stream",
          "text": [
            "Acurácia com 100 arvores: 0.9473684210526315\n",
            "Acurácia com 200 arvores: 0.9473684210526315\n",
            "Acurácia com 300 arvores: 0.9473684210526315\n",
            "Acurácia com 400 arvores: 0.9473684210526315\n",
            "Acurácia com 500 arvores: 0.9473684210526315\n",
            "Acurácia com 600 arvores: 0.9473684210526315\n",
            "Acurácia com 700 arvores: 0.9473684210526315\n",
            "Acurácia com 800 arvores: 0.9473684210526315\n",
            "Acurácia com 900 arvores: 0.9473684210526315\n",
            "Acurácia com 1000 arvores: 0.9473684210526315\n"
          ],
          "name": "stdout"
        }
      ]
    },
    {
      "cell_type": "markdown",
      "metadata": {
        "id": "71widvVENlhh"
      },
      "source": [
        "Retirando o sepal length"
      ]
    },
    {
      "cell_type": "code",
      "metadata": {
        "id": "TARIgoN5NbhZ"
      },
      "source": [
        "x_treino = x_treino.drop(['sepal length'],1)\n",
        "x_teste = x_teste.drop(['sepal length'],1)"
      ],
      "execution_count": 12,
      "outputs": []
    },
    {
      "cell_type": "code",
      "metadata": {
        "colab": {
          "base_uri": "https://localhost:8080/"
        },
        "id": "M4sMpJ6wNbha",
        "outputId": "f410500f-06fe-48f3-80d1-7afa307ba646"
      },
      "source": [
        "model = RandomForestClassifier(n_estimators=100)\n",
        "model.fit(x_treino, y_treino)"
      ],
      "execution_count": 13,
      "outputs": [
        {
          "output_type": "execute_result",
          "data": {
            "text/plain": [
              "RandomForestClassifier(bootstrap=True, ccp_alpha=0.0, class_weight=None,\n",
              "                       criterion='gini', max_depth=None, max_features='auto',\n",
              "                       max_leaf_nodes=None, max_samples=None,\n",
              "                       min_impurity_decrease=0.0, min_impurity_split=None,\n",
              "                       min_samples_leaf=1, min_samples_split=2,\n",
              "                       min_weight_fraction_leaf=0.0, n_estimators=100,\n",
              "                       n_jobs=None, oob_score=False, random_state=None,\n",
              "                       verbose=0, warm_start=False)"
            ]
          },
          "metadata": {
            "tags": []
          },
          "execution_count": 13
        }
      ]
    },
    {
      "cell_type": "code",
      "metadata": {
        "colab": {
          "base_uri": "https://localhost:8080/"
        },
        "id": "seNMPjITNbhb",
        "outputId": "3af35e36-ce59-4629-9c11-20474f8ed048"
      },
      "source": [
        "feature_imp = pd.Series(model.feature_importances_,index=dados.drop(['sepal width','sepal length','class'],1).columns).sort_values(ascending=False)\n",
        "feature_imp"
      ],
      "execution_count": 14,
      "outputs": [
        {
          "output_type": "execute_result",
          "data": {
            "text/plain": [
              "petal length    0.533023\n",
              "petal width     0.466977\n",
              "dtype: float64"
            ]
          },
          "metadata": {
            "tags": []
          },
          "execution_count": 14
        }
      ]
    },
    {
      "cell_type": "code",
      "metadata": {
        "colab": {
          "base_uri": "https://localhost:8080/"
        },
        "id": "UdV1JyJ8Nbhb",
        "outputId": "4ac9c8b5-2f83-461e-9577-8fb65dafd902"
      },
      "source": [
        "num_arvores = [100,200,300,400,500,600,700,800,900,1000]\n",
        "for i in num_arvores:\n",
        "  model = RandomForestClassifier(n_estimators=i)\n",
        "  model.fit(x_treino, y_treino)\n",
        "  ypred = model.predict(x_teste)\n",
        "  print(\"Acurácia com\",i,\"arvores:\",accuracy_score(y_teste, ypred))"
      ],
      "execution_count": 15,
      "outputs": [
        {
          "output_type": "stream",
          "text": [
            "Acurácia com 100 arvores: 0.9736842105263158\n",
            "Acurácia com 200 arvores: 0.9736842105263158\n",
            "Acurácia com 300 arvores: 0.9736842105263158\n",
            "Acurácia com 400 arvores: 0.9736842105263158\n",
            "Acurácia com 500 arvores: 0.9736842105263158\n",
            "Acurácia com 600 arvores: 0.9736842105263158\n",
            "Acurácia com 700 arvores: 0.9736842105263158\n",
            "Acurácia com 800 arvores: 0.9736842105263158\n",
            "Acurácia com 900 arvores: 0.9736842105263158\n",
            "Acurácia com 1000 arvores: 0.9736842105263158\n"
          ],
          "name": "stdout"
        }
      ]
    }
  ]
}