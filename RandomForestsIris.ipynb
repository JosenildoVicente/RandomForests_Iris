{
  "nbformat": 4,
  "nbformat_minor": 0,
  "metadata": {
    "colab": {
      "name": "RandomForestsIris.ipynb",
      "provenance": [],
      "authorship_tag": "ABX9TyPsirALMQsQ+YAopH6PEdGb",
      "include_colab_link": true
    },
    "kernelspec": {
      "name": "python3",
      "display_name": "Python 3"
    },
    "language_info": {
      "name": "python"
    }
  },
  "cells": [
    {
      "cell_type": "markdown",
      "metadata": {
        "id": "view-in-github",
        "colab_type": "text"
      },
      "source": [
        "<a href=\"https://colab.research.google.com/github/JosenildoVicente/RandomForests_Iris/blob/main/RandomForestsIris.ipynb\" target=\"_parent\"><img src=\"https://colab.research.google.com/assets/colab-badge.svg\" alt=\"Open In Colab\"/></a>"
      ]
    },
    {
      "cell_type": "markdown",
      "metadata": {
        "id": "5_qgsB9D2oZN"
      },
      "source": [
        "#Importação dos dados:"
      ]
    },
    {
      "cell_type": "code",
      "metadata": {
        "id": "HPWutxqS2WUs"
      },
      "source": [
        "import pandas as pd\n",
        "import numpy as np\n",
        "from sklearn.model_selection import train_test_split\n",
        "from sklearn.ensemble import RandomForestClassifier\n",
        "from sklearn.metrics import accuracy_score"
      ],
      "execution_count": 1,
      "outputs": []
    },
    {
      "cell_type": "code",
      "metadata": {
        "id": "v-CtAZKX3QWu"
      },
      "source": [
        "dados = pd.read_csv( \"https://raw.githubusercontent.com/JosenildoVicente/RandomForests_Iris/main/iris.csv\", encoding=\"ISO-8859-1\" )"
      ],
      "execution_count": 2,
      "outputs": []
    },
    {
      "cell_type": "markdown",
      "metadata": {
        "id": "6K1cBwZ23a69"
      },
      "source": [
        "Normalização dos dados:"
      ]
    },
    {
      "cell_type": "code",
      "metadata": {
        "id": "ge-NjEcO3WKm"
      },
      "source": [
        "dados['sepal length'] = (dados['sepal length'] - min(dados['sepal length']))/(max(dados['sepal length']) - min(dados['sepal length']))\n",
        "dados['sepal width'] = (dados['sepal width'] - min(dados['sepal width']))/(max(dados['sepal width']) - min(dados['sepal width']))\n",
        "dados['petal length'] = (dados['petal length'] - min(dados['petal length']))/(max(dados['petal length']) - min(dados['petal length']))\n",
        "dados['petal width'] = (dados['petal width'] - min(dados['petal width']))/(max(dados['petal width']) - min(dados['petal width']))"
      ],
      "execution_count": 3,
      "outputs": []
    },
    {
      "cell_type": "markdown",
      "metadata": {
        "id": "c8KHVQ0T3gnG"
      },
      "source": [
        "#Separação em dados de treino e de teste:"
      ]
    },
    {
      "cell_type": "code",
      "metadata": {
        "id": "_BfL92J73dNk"
      },
      "source": [
        "x_treino, x_teste, y_treino, y_teste = train_test_split(dados.drop('class',axis=1),dados['class'],test_size=0.25, stratify=dados['class'])"
      ],
      "execution_count": 4,
      "outputs": []
    },
    {
      "cell_type": "markdown",
      "metadata": {
        "id": "CE_pQU41WlDD"
      },
      "source": [
        "#Treino, teste e resultado acurácias"
      ]
    },
    {
      "cell_type": "code",
      "metadata": {
        "colab": {
          "base_uri": "https://localhost:8080/"
        },
        "id": "eIJLu3Wy3wtG",
        "outputId": "79a7f0e1-1e62-48fa-95d8-80df5f5f0506"
      },
      "source": [
        "num_arvores = [100,200,300,400,500,600,700,800,900,1000]\n",
        "for i in num_arvores:\n",
        "  model = RandomForestClassifier(n_estimators=i)\n",
        "  model.fit(x_treino, y_treino)\n",
        "  ypred = model.predict(x_teste)\n",
        "  print(\"Acurácia com\",i,\"arvores:\",accuracy_score(y_teste, ypred))"
      ],
      "execution_count": 5,
      "outputs": [
        {
          "output_type": "stream",
          "text": [
            "Acurácia com 100 arvores: 1.0\n",
            "Acurácia com 200 arvores: 1.0\n",
            "Acurácia com 300 arvores: 0.9736842105263158\n",
            "Acurácia com 400 arvores: 1.0\n",
            "Acurácia com 500 arvores: 1.0\n",
            "Acurácia com 600 arvores: 1.0\n",
            "Acurácia com 700 arvores: 1.0\n",
            "Acurácia com 800 arvores: 1.0\n",
            "Acurácia com 900 arvores: 1.0\n",
            "Acurácia com 1000 arvores: 1.0\n"
          ],
          "name": "stdout"
        }
      ]
    }
  ]
}